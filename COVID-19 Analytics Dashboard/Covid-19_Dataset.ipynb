{
 "cells": [
  {
   "cell_type": "code",
   "execution_count": 3,
   "id": "e5d57c3d",
   "metadata": {},
   "outputs": [
    {
     "name": "stderr",
     "output_type": "stream",
     "text": [
      "C:\\Users\\DELL\\AppData\\Local\\Temp\\ipykernel_9360\\3341376338.py:3: DtypeWarning: Columns (2) have mixed types. Specify dtype option on import or set low_memory=False.\n",
      "  df = pd.read_csv('Covid-19 Activity.csv')\n"
     ]
    }
   ],
   "source": [
    "import pandas as pd\n",
    "import numpy as np\n",
    "df = pd.read_csv('Covid-19 Activity.csv')"
   ]
  },
  {
   "cell_type": "code",
   "execution_count": 4,
   "id": "681f83e1",
   "metadata": {},
   "outputs": [
    {
     "data": {
      "text/html": [
       "<div>\n",
       "<style scoped>\n",
       "    .dataframe tbody tr th:only-of-type {\n",
       "        vertical-align: middle;\n",
       "    }\n",
       "\n",
       "    .dataframe tbody tr th {\n",
       "        vertical-align: top;\n",
       "    }\n",
       "\n",
       "    .dataframe thead th {\n",
       "        text-align: right;\n",
       "    }\n",
       "</style>\n",
       "<table border=\"1\" class=\"dataframe\">\n",
       "  <thead>\n",
       "    <tr style=\"text-align: right;\">\n",
       "      <th></th>\n",
       "      <th>index</th>\n",
       "      <th>PEOPLE_POSITIVE_CASES_COUNT</th>\n",
       "      <th>COUNTY_NAME</th>\n",
       "      <th>PROVINCE_STATE_NAME</th>\n",
       "      <th>REPORT_DATE</th>\n",
       "      <th>CONTINENT_NAME</th>\n",
       "      <th>DATA_SOURCE_NAME</th>\n",
       "      <th>PEOPLE_DEATH_NEW_COUNT</th>\n",
       "      <th>COUNTY_FIPS_NUMBER</th>\n",
       "      <th>COUNTRY_ALPHA_3_CODE</th>\n",
       "      <th>COUNTRY_SHORT_NAME</th>\n",
       "      <th>COUNTRY_ALPHA_2_CODE</th>\n",
       "      <th>PEOPLE_POSITIVE_NEW_CASES_COUNT</th>\n",
       "      <th>PEOPLE_DEATH_COUNT</th>\n",
       "    </tr>\n",
       "  </thead>\n",
       "  <tbody>\n",
       "    <tr>\n",
       "      <th>0</th>\n",
       "      <td>0</td>\n",
       "      <td>19088</td>\n",
       "      <td>Delaware</td>\n",
       "      <td>Ohio</td>\n",
       "      <td>2021-07-23</td>\n",
       "      <td>America</td>\n",
       "      <td>New York Times</td>\n",
       "      <td>1</td>\n",
       "      <td>39041.0</td>\n",
       "      <td>USA</td>\n",
       "      <td>United States</td>\n",
       "      <td>US</td>\n",
       "      <td>11</td>\n",
       "      <td>138</td>\n",
       "    </tr>\n",
       "    <tr>\n",
       "      <th>1</th>\n",
       "      <td>1</td>\n",
       "      <td>19099</td>\n",
       "      <td>Delaware</td>\n",
       "      <td>Ohio</td>\n",
       "      <td>2021-07-24</td>\n",
       "      <td>America</td>\n",
       "      <td>New York Times</td>\n",
       "      <td>0</td>\n",
       "      <td>39041.0</td>\n",
       "      <td>USA</td>\n",
       "      <td>United States</td>\n",
       "      <td>US</td>\n",
       "      <td>11</td>\n",
       "      <td>138</td>\n",
       "    </tr>\n",
       "    <tr>\n",
       "      <th>2</th>\n",
       "      <td>2</td>\n",
       "      <td>19105</td>\n",
       "      <td>Delaware</td>\n",
       "      <td>Ohio</td>\n",
       "      <td>2021-07-25</td>\n",
       "      <td>America</td>\n",
       "      <td>New York Times</td>\n",
       "      <td>0</td>\n",
       "      <td>39041.0</td>\n",
       "      <td>USA</td>\n",
       "      <td>United States</td>\n",
       "      <td>US</td>\n",
       "      <td>6</td>\n",
       "      <td>138</td>\n",
       "    </tr>\n",
       "    <tr>\n",
       "      <th>3</th>\n",
       "      <td>3</td>\n",
       "      <td>19120</td>\n",
       "      <td>Delaware</td>\n",
       "      <td>Ohio</td>\n",
       "      <td>2021-07-26</td>\n",
       "      <td>America</td>\n",
       "      <td>New York Times</td>\n",
       "      <td>0</td>\n",
       "      <td>39041.0</td>\n",
       "      <td>USA</td>\n",
       "      <td>United States</td>\n",
       "      <td>US</td>\n",
       "      <td>15</td>\n",
       "      <td>138</td>\n",
       "    </tr>\n",
       "    <tr>\n",
       "      <th>4</th>\n",
       "      <td>4</td>\n",
       "      <td>19143</td>\n",
       "      <td>Delaware</td>\n",
       "      <td>Ohio</td>\n",
       "      <td>2021-07-27</td>\n",
       "      <td>America</td>\n",
       "      <td>New York Times</td>\n",
       "      <td>0</td>\n",
       "      <td>39041.0</td>\n",
       "      <td>USA</td>\n",
       "      <td>United States</td>\n",
       "      <td>US</td>\n",
       "      <td>23</td>\n",
       "      <td>138</td>\n",
       "    </tr>\n",
       "  </tbody>\n",
       "</table>\n",
       "</div>"
      ],
      "text/plain": [
       "   index  PEOPLE_POSITIVE_CASES_COUNT COUNTY_NAME PROVINCE_STATE_NAME  \\\n",
       "0      0                        19088    Delaware                Ohio   \n",
       "1      1                        19099    Delaware                Ohio   \n",
       "2      2                        19105    Delaware                Ohio   \n",
       "3      3                        19120    Delaware                Ohio   \n",
       "4      4                        19143    Delaware                Ohio   \n",
       "\n",
       "  REPORT_DATE CONTINENT_NAME DATA_SOURCE_NAME  PEOPLE_DEATH_NEW_COUNT  \\\n",
       "0  2021-07-23        America   New York Times                       1   \n",
       "1  2021-07-24        America   New York Times                       0   \n",
       "2  2021-07-25        America   New York Times                       0   \n",
       "3  2021-07-26        America   New York Times                       0   \n",
       "4  2021-07-27        America   New York Times                       0   \n",
       "\n",
       "   COUNTY_FIPS_NUMBER COUNTRY_ALPHA_3_CODE COUNTRY_SHORT_NAME  \\\n",
       "0             39041.0                  USA      United States   \n",
       "1             39041.0                  USA      United States   \n",
       "2             39041.0                  USA      United States   \n",
       "3             39041.0                  USA      United States   \n",
       "4             39041.0                  USA      United States   \n",
       "\n",
       "  COUNTRY_ALPHA_2_CODE  PEOPLE_POSITIVE_NEW_CASES_COUNT  PEOPLE_DEATH_COUNT  \n",
       "0                   US                               11                 138  \n",
       "1                   US                               11                 138  \n",
       "2                   US                                6                 138  \n",
       "3                   US                               15                 138  \n",
       "4                   US                               23                 138  "
      ]
     },
     "execution_count": 4,
     "metadata": {},
     "output_type": "execute_result"
    }
   ],
   "source": [
    "df.head()"
   ]
  },
  {
   "cell_type": "code",
   "execution_count": 5,
   "id": "c1f0cca8",
   "metadata": {},
   "outputs": [
    {
     "name": "stdout",
     "output_type": "stream",
     "text": [
      "<class 'pandas.core.frame.DataFrame'>\n",
      "RangeIndex: 2952310 entries, 0 to 2952309\n",
      "Data columns (total 14 columns):\n",
      " #   Column                           Dtype  \n",
      "---  ------                           -----  \n",
      " 0   index                            int64  \n",
      " 1   PEOPLE_POSITIVE_CASES_COUNT      int64  \n",
      " 2   COUNTY_NAME                      object \n",
      " 3   PROVINCE_STATE_NAME              object \n",
      " 4   REPORT_DATE                      object \n",
      " 5   CONTINENT_NAME                   object \n",
      " 6   DATA_SOURCE_NAME                 object \n",
      " 7   PEOPLE_DEATH_NEW_COUNT           int64  \n",
      " 8   COUNTY_FIPS_NUMBER               float64\n",
      " 9   COUNTRY_ALPHA_3_CODE             object \n",
      " 10  COUNTRY_SHORT_NAME               object \n",
      " 11  COUNTRY_ALPHA_2_CODE             object \n",
      " 12  PEOPLE_POSITIVE_NEW_CASES_COUNT  int64  \n",
      " 13  PEOPLE_DEATH_COUNT               int64  \n",
      "dtypes: float64(1), int64(5), object(8)\n",
      "memory usage: 315.3+ MB\n"
     ]
    }
   ],
   "source": [
    "df.info()"
   ]
  },
  {
   "cell_type": "code",
   "execution_count": 6,
   "id": "6d5d42fe",
   "metadata": {},
   "outputs": [
    {
     "data": {
      "text/plain": [
       "index                                   0\n",
       "PEOPLE_POSITIVE_CASES_COUNT             0\n",
       "COUNTY_NAME                        232400\n",
       "PROVINCE_STATE_NAME                185090\n",
       "REPORT_DATE                             0\n",
       "CONTINENT_NAME                      10790\n",
       "DATA_SOURCE_NAME                        0\n",
       "PEOPLE_DEATH_NEW_COUNT                  0\n",
       "COUNTY_FIPS_NUMBER                 279710\n",
       "COUNTRY_ALPHA_3_CODE                10790\n",
       "COUNTRY_SHORT_NAME                      0\n",
       "COUNTRY_ALPHA_2_CODE                11620\n",
       "PEOPLE_POSITIVE_NEW_CASES_COUNT         0\n",
       "PEOPLE_DEATH_COUNT                      0\n",
       "dtype: int64"
      ]
     },
     "execution_count": 6,
     "metadata": {},
     "output_type": "execute_result"
    }
   ],
   "source": [
    "df.isna().sum()"
   ]
  },
  {
   "cell_type": "code",
   "execution_count": 7,
   "id": "00a4500c",
   "metadata": {},
   "outputs": [
    {
     "name": "stderr",
     "output_type": "stream",
     "text": [
      "C:\\Users\\DELL\\AppData\\Local\\Temp\\ipykernel_9360\\4269807852.py:1: FutureWarning: A value is trying to be set on a copy of a DataFrame or Series through chained assignment using an inplace method.\n",
      "The behavior will change in pandas 3.0. This inplace method will never work because the intermediate object on which we are setting values always behaves as a copy.\n",
      "\n",
      "For example, when doing 'df[col].method(value, inplace=True)', try using 'df.method({col: value}, inplace=True)' or df[col] = df[col].method(value) instead, to perform the operation inplace on the original object.\n",
      "\n",
      "\n",
      "  df['CONTINENT_NAME'].fillna('Unknown', inplace=True)\n",
      "C:\\Users\\DELL\\AppData\\Local\\Temp\\ipykernel_9360\\4269807852.py:3: FutureWarning: A value is trying to be set on a copy of a DataFrame or Series through chained assignment using an inplace method.\n",
      "The behavior will change in pandas 3.0. This inplace method will never work because the intermediate object on which we are setting values always behaves as a copy.\n",
      "\n",
      "For example, when doing 'df[col].method(value, inplace=True)', try using 'df.method({col: value}, inplace=True)' or df[col] = df[col].method(value) instead, to perform the operation inplace on the original object.\n",
      "\n",
      "\n",
      "  df['COUNTRY_ALPHA_2_CODE'].fillna('Unknown', inplace=True)\n",
      "C:\\Users\\DELL\\AppData\\Local\\Temp\\ipykernel_9360\\4269807852.py:4: FutureWarning: A value is trying to be set on a copy of a DataFrame or Series through chained assignment using an inplace method.\n",
      "The behavior will change in pandas 3.0. This inplace method will never work because the intermediate object on which we are setting values always behaves as a copy.\n",
      "\n",
      "For example, when doing 'df[col].method(value, inplace=True)', try using 'df.method({col: value}, inplace=True)' or df[col] = df[col].method(value) instead, to perform the operation inplace on the original object.\n",
      "\n",
      "\n",
      "  df['COUNTRY_ALPHA_3_CODE'].fillna('Unknown', inplace=True)\n",
      "C:\\Users\\DELL\\AppData\\Local\\Temp\\ipykernel_9360\\4269807852.py:6: FutureWarning: A value is trying to be set on a copy of a DataFrame or Series through chained assignment using an inplace method.\n",
      "The behavior will change in pandas 3.0. This inplace method will never work because the intermediate object on which we are setting values always behaves as a copy.\n",
      "\n",
      "For example, when doing 'df[col].method(value, inplace=True)', try using 'df.method({col: value}, inplace=True)' or df[col] = df[col].method(value) instead, to perform the operation inplace on the original object.\n",
      "\n",
      "\n",
      "  df['COUNTY_NAME'].fillna('Unknown', inplace=True)\n",
      "C:\\Users\\DELL\\AppData\\Local\\Temp\\ipykernel_9360\\4269807852.py:7: FutureWarning: A value is trying to be set on a copy of a DataFrame or Series through chained assignment using an inplace method.\n",
      "The behavior will change in pandas 3.0. This inplace method will never work because the intermediate object on which we are setting values always behaves as a copy.\n",
      "\n",
      "For example, when doing 'df[col].method(value, inplace=True)', try using 'df.method({col: value}, inplace=True)' or df[col] = df[col].method(value) instead, to perform the operation inplace on the original object.\n",
      "\n",
      "\n",
      "  df['PROVINCE_STATE_NAME'].fillna('Unknown', inplace=True)\n",
      "C:\\Users\\DELL\\AppData\\Local\\Temp\\ipykernel_9360\\4269807852.py:8: FutureWarning: A value is trying to be set on a copy of a DataFrame or Series through chained assignment using an inplace method.\n",
      "The behavior will change in pandas 3.0. This inplace method will never work because the intermediate object on which we are setting values always behaves as a copy.\n",
      "\n",
      "For example, when doing 'df[col].method(value, inplace=True)', try using 'df.method({col: value}, inplace=True)' or df[col] = df[col].method(value) instead, to perform the operation inplace on the original object.\n",
      "\n",
      "\n",
      "  df['COUNTY_FIPS_NUMBER'].fillna(0, inplace=True)\n"
     ]
    },
    {
     "name": "stdout",
     "output_type": "stream",
     "text": [
      "index                              0\n",
      "PEOPLE_POSITIVE_CASES_COUNT        0\n",
      "COUNTY_NAME                        0\n",
      "PROVINCE_STATE_NAME                0\n",
      "REPORT_DATE                        0\n",
      "CONTINENT_NAME                     0\n",
      "DATA_SOURCE_NAME                   0\n",
      "PEOPLE_DEATH_NEW_COUNT             0\n",
      "COUNTY_FIPS_NUMBER                 0\n",
      "COUNTRY_ALPHA_3_CODE               0\n",
      "COUNTRY_SHORT_NAME                 0\n",
      "COUNTRY_ALPHA_2_CODE               0\n",
      "PEOPLE_POSITIVE_NEW_CASES_COUNT    0\n",
      "PEOPLE_DEATH_COUNT                 0\n",
      "dtype: int64\n"
     ]
    }
   ],
   "source": [
    "df['CONTINENT_NAME'].fillna('Unknown', inplace=True)\n",
    "\n",
    "df['COUNTRY_ALPHA_2_CODE'].fillna('Unknown', inplace=True)\n",
    "df['COUNTRY_ALPHA_3_CODE'].fillna('Unknown', inplace=True)\n",
    "\n",
    "df['COUNTY_NAME'].fillna('Unknown', inplace=True)\n",
    "df['PROVINCE_STATE_NAME'].fillna('Unknown', inplace=True)\n",
    "df['COUNTY_FIPS_NUMBER'].fillna(0, inplace=True)\n",
    "\n",
    "print(df.isna().sum())\n"
   ]
  },
  {
   "cell_type": "code",
   "execution_count": 8,
   "id": "6c4d5912",
   "metadata": {},
   "outputs": [
    {
     "data": {
      "text/plain": [
       "index                              0\n",
       "PEOPLE_POSITIVE_CASES_COUNT        0\n",
       "COUNTY_NAME                        0\n",
       "PROVINCE_STATE_NAME                0\n",
       "REPORT_DATE                        0\n",
       "CONTINENT_NAME                     0\n",
       "DATA_SOURCE_NAME                   0\n",
       "PEOPLE_DEATH_NEW_COUNT             0\n",
       "COUNTY_FIPS_NUMBER                 0\n",
       "COUNTRY_ALPHA_3_CODE               0\n",
       "COUNTRY_SHORT_NAME                 0\n",
       "COUNTRY_ALPHA_2_CODE               0\n",
       "PEOPLE_POSITIVE_NEW_CASES_COUNT    0\n",
       "PEOPLE_DEATH_COUNT                 0\n",
       "dtype: int64"
      ]
     },
     "execution_count": 8,
     "metadata": {},
     "output_type": "execute_result"
    }
   ],
   "source": [
    "df.isna().sum()"
   ]
  },
  {
   "cell_type": "code",
   "execution_count": 10,
   "id": "81a062d1",
   "metadata": {},
   "outputs": [],
   "source": [
    "df.to_csv('Tableau_Cleaned_Covid-19.csv', index=False)"
   ]
  }
 ],
 "metadata": {
  "kernelspec": {
   "display_name": "python_eda",
   "language": "python",
   "name": "python3"
  },
  "language_info": {
   "codemirror_mode": {
    "name": "ipython",
    "version": 3
   },
   "file_extension": ".py",
   "mimetype": "text/x-python",
   "name": "python",
   "nbconvert_exporter": "python",
   "pygments_lexer": "ipython3",
   "version": "3.13.2"
  }
 },
 "nbformat": 4,
 "nbformat_minor": 5
}
